{
 "cells": [
  {
   "cell_type": "markdown",
   "id": "f59d1f1c-9924-4186-a2e5-08d5149bc5f5",
   "metadata": {},
   "source": [
    "## Homework: Introduction\n",
    "\n",
    "In this homework, we'll learn more about search and use Elastic Search for practice. \n",
    "\n"
   ]
  },
  {
   "cell_type": "code",
   "execution_count": 1,
   "id": "c5d4c3d9-ff6f-4603-a52c-c0febff76db0",
   "metadata": {},
   "outputs": [
    {
     "name": "stdout",
     "output_type": "stream",
     "text": [
      "Python 3.10.13\n"
     ]
    }
   ],
   "source": [
    "!python -V"
   ]
  },
  {
   "cell_type": "code",
   "execution_count": 35,
   "id": "c475bfbc-2fe7-45b6-ac6a-796702c3fd53",
   "metadata": {},
   "outputs": [],
   "source": [
    "import json\n",
    "from pprint import pprint\n",
    "from tqdm.notebook import tqdm"
   ]
  },
  {
   "cell_type": "markdown",
   "id": "25b7c61d-2142-4b77-9455-3972c8dd0ba3",
   "metadata": {},
   "source": [
    "## Q1. Running Elastic \n",
    "\n",
    "Run Elastic Search 8.4.3, and get the cluster information. If you run it on localhost, this is how you do it:\n",
    "\n",
    "```bash\n",
    "curl localhost:9200\n",
    "```\n",
    "\n",
    "What's the `version.build_hash` value?\n",
    "\n",
    "\n"
   ]
  },
  {
   "cell_type": "code",
   "execution_count": 3,
   "id": "9fd837fb-1e2c-4e9a-a7c2-0dc95d31f9c7",
   "metadata": {},
   "outputs": [],
   "source": [
    "ELASTIC_SEARCH_INFO = 'elastic-search-info.json'"
   ]
  },
  {
   "cell_type": "code",
   "execution_count": 4,
   "id": "b0e1dee5-62bb-4e7d-a128-720c3ef89dd0",
   "metadata": {},
   "outputs": [
    {
     "name": "stdout",
     "output_type": "stream",
     "text": [
      "  % Total    % Received % Xferd  Average Speed   Time    Time     Time  Current\n",
      "                                 Dload  Upload   Total   Spent    Left  Speed\n",
      "  0     0    0     0    0     0      0      0 --:--:-- --:--:-- --:--:--     0\n",
      "curl: (7) Failed to connect to localhost port 9200: Connection refused\n"
     ]
    }
   ],
   "source": [
    "!curl localhost:9200  -o {ELASTIC_SEARCH_INFO}"
   ]
  },
  {
   "cell_type": "code",
   "execution_count": 5,
   "id": "90d0db67-6665-41ad-bfd0-2a0921bb08b4",
   "metadata": {},
   "outputs": [
    {
     "name": "stdout",
     "output_type": "stream",
     "text": [
      "{'cluster_name': 'docker-cluster',\n",
      " 'cluster_uuid': 'd4Tl-ZpEQ1aXu6j70MNdww',\n",
      " 'name': '63f9977d5bd6',\n",
      " 'tagline': 'You Know, for Search',\n",
      " 'version': {'build_date': '2022-10-04T07:17:24.662462378Z',\n",
      "             'build_flavor': 'default',\n",
      "             'build_hash': '42f05b9372a9a4a470db3b52817899b99a76ee73',\n",
      "             'build_snapshot': False,\n",
      "             'build_type': 'docker',\n",
      "             'lucene_version': '9.3.0',\n",
      "             'minimum_index_compatibility_version': '7.0.0',\n",
      "             'minimum_wire_compatibility_version': '7.17.0',\n",
      "             'number': '8.4.3'}}\n"
     ]
    }
   ],
   "source": [
    "\n",
    "\n",
    "with open(ELASTIC_SEARCH_INFO) as json_data:\n",
    "    info = json.load(json_data)\n",
    "    json_data.close()\n",
    "    pprint(info)"
   ]
  },
  {
   "cell_type": "code",
   "execution_count": 6,
   "id": "d95f0a0d-4b54-4937-9be0-486ccaff604d",
   "metadata": {},
   "outputs": [
    {
     "data": {
      "text/plain": [
       "'42f05b9372a9a4a470db3b52817899b99a76ee73'"
      ]
     },
     "execution_count": 6,
     "metadata": {},
     "output_type": "execute_result"
    }
   ],
   "source": [
    "info['version']['build_hash']"
   ]
  },
  {
   "cell_type": "markdown",
   "id": "3f959871-fafa-4618-9ca5-a85e06e34430",
   "metadata": {},
   "source": [
    "## Getting the data\n",
    "\n",
    "Now let's get the FAQ data. You can run this snippet:\n",
    "\n",
    "```python\n",
    "import requests \n",
    "\n",
    "docs_url = 'https://github.com/DataTalksClub/llm-zoomcamp/blob/main/01-intro/documents.json?raw=1'\n",
    "docs_response = requests.get(docs_url)\n",
    "documents_raw = docs_response.json()\n",
    "\n",
    "documents = []\n",
    "\n",
    "for course in documents_raw:\n",
    "    course_name = course['course']\n",
    "\n",
    "    for doc in course['documents']:\n",
    "        doc['course'] = course_name\n",
    "        documents.append(doc)\n",
    "```\n",
    "\n",
    "Note that you need to have the `requests` library:\n",
    "\n",
    "```bash\n",
    "pip install requests\n",
    "```\n"
   ]
  },
  {
   "cell_type": "code",
   "execution_count": 12,
   "id": "e0c5872f-a755-4015-be55-933bcc58afcf",
   "metadata": {},
   "outputs": [],
   "source": [
    "import requests \n",
    "\n",
    "docs_url = 'https://github.com/DataTalksClub/llm-zoomcamp/blob/main/01-intro/documents.json?raw=1'\n",
    "docs_response = requests.get(docs_url)\n",
    "documents_raw = docs_response.json()\n",
    "\n",
    "documents = []\n",
    "\n",
    "for course in documents_raw:\n",
    "    course_name = course['course']\n",
    "\n",
    "    for doc in course['documents']:\n",
    "        doc['course'] = course_name\n",
    "        documents.append(doc)"
   ]
  },
  {
   "cell_type": "markdown",
   "id": "9728d44c-d285-4210-a11f-92d49717b9e1",
   "metadata": {},
   "source": [
    "\n",
    "## Q2. Indexing the data\n",
    "\n",
    "Index the data in the same way as was shown in the course videos. Make the `course` field a keyword and the rest should be text. \n",
    "\n",
    "Don't forget to install the ElasticSearch client for Python:\n",
    "\n",
    "```bash\n",
    "pip install elasticsearch\n",
    "```\n",
    "\n"
   ]
  },
  {
   "cell_type": "markdown",
   "id": "ba384a43-3f28-4eea-8a11-bc6707a601c2",
   "metadata": {},
   "source": [
    "https://elasticsearch-py.readthedocs.io/en/v8.14.0/\n",
    "\n"
   ]
  },
  {
   "cell_type": "code",
   "execution_count": 8,
   "id": "2a4827c6-dcf8-4ebd-9e2a-bce9cae26fbb",
   "metadata": {},
   "outputs": [
    {
     "name": "stdout",
     "output_type": "stream",
     "text": [
      "Requirement already satisfied: elasticsearch in /opt/conda/envs/intro-env/lib/python3.10/site-packages (7.13.3)\n",
      "Requirement already satisfied: urllib3<2,>=1.21.1 in /opt/conda/envs/intro-env/lib/python3.10/site-packages (from elasticsearch) (1.26.19)\n",
      "Requirement already satisfied: certifi in /home/codespace/.local/lib/python3.10/site-packages (from elasticsearch) (2024.2.2)\n"
     ]
    }
   ],
   "source": [
    "!pip install elasticsearch"
   ]
  },
  {
   "cell_type": "code",
   "execution_count": 9,
   "id": "7beca36f-ba35-43f3-94b6-9adbc8341ea6",
   "metadata": {},
   "outputs": [
    {
     "name": "stdout",
     "output_type": "stream",
     "text": [
      "Channels:\n",
      " - defaults\n",
      "Platform: linux-64\n",
      "Collecting package metadata (repodata.json): done\n",
      "Solving environment: done\n",
      "\n",
      "# All requested packages already installed.\n",
      "\n"
     ]
    }
   ],
   "source": [
    "!conda install elasticsearch -y"
   ]
  },
  {
   "cell_type": "code",
   "execution_count": 39,
   "id": "433dea1e-9a7b-46cc-a05b-eb4062c7b190",
   "metadata": {},
   "outputs": [],
   "source": [
    "from datetime import datetime\n",
    "from elasticsearch import Elasticsearch\n",
    "\n",
    "#del client"
   ]
  },
  {
   "cell_type": "code",
   "execution_count": 40,
   "id": "9383fef7-2856-4bb6-bbac-3d35d6d73ca2",
   "metadata": {},
   "outputs": [
    {
     "data": {
      "text/plain": [
       "{'name': '6168a5eaed52',\n",
       " 'cluster_name': 'docker-cluster',\n",
       " 'cluster_uuid': 'G9MnYmkNRIei86p2u1V5-Q',\n",
       " 'version': {'number': '8.4.3',\n",
       "  'build_flavor': 'default',\n",
       "  'build_type': 'docker',\n",
       "  'build_hash': '42f05b9372a9a4a470db3b52817899b99a76ee73',\n",
       "  'build_date': '2022-10-04T07:17:24.662462378Z',\n",
       "  'build_snapshot': False,\n",
       "  'lucene_version': '9.3.0',\n",
       "  'minimum_wire_compatibility_version': '7.17.0',\n",
       "  'minimum_index_compatibility_version': '7.0.0'},\n",
       " 'tagline': 'You Know, for Search'}"
      ]
     },
     "execution_count": 40,
     "metadata": {},
     "output_type": "execute_result"
    }
   ],
   "source": [
    "es_client = Elasticsearch(\"http://localhost:9200\")\n",
    "es_client.info()"
   ]
  },
  {
   "cell_type": "code",
   "execution_count": 41,
   "id": "cd32be46-f869-4415-93a5-3c41e11b5e29",
   "metadata": {},
   "outputs": [],
   "source": [
    "index_settings = {\n",
    "    \"settings\": {\n",
    "        \"number_of_shards\": 1,\n",
    "        \"number_of_replicas\": 0\n",
    "    },\n",
    "    \"mappings\": {\n",
    "        \"properties\": {\n",
    "            \"text\": {\"type\": \"text\"},\n",
    "            \"section\": {\"type\": \"text\"},\n",
    "            \"question\": {\"type\": \"text\"},\n",
    "            \"course\": {\"type\": \"keyword\"} \n",
    "        }\n",
    "    }\n",
    "}\n",
    "\n",
    "index_name = \"course-question\""
   ]
  },
  {
   "cell_type": "code",
   "execution_count": 42,
   "id": "405418a1-bc1a-45de-9883-d20f701f800f",
   "metadata": {},
   "outputs": [],
   "source": [
    "# Obtener lista de índices y imprimir sus nombres\n",
    "try:\n",
    "    indices = es_client.cat.indices(format='json')\n",
    "    for index in indices:\n",
    "        print(index['index'])\n",
    "except Exception as e:\n",
    "    print(f'Error al obtener los índices: {e}')\n"
   ]
  },
  {
   "cell_type": "code",
   "execution_count": 44,
   "id": "ddca6fb5-0b97-4b70-992a-5ec2af63a2b8",
   "metadata": {},
   "outputs": [],
   "source": [
    "#es_client.indices.delete(index=index_name)"
   ]
  },
  {
   "cell_type": "code",
   "execution_count": 45,
   "id": "fa13f061-789c-4593-bf29-e29188c7dedd",
   "metadata": {},
   "outputs": [
    {
     "data": {
      "text/plain": [
       "{'acknowledged': True, 'shards_acknowledged': True, 'index': 'course-question'}"
      ]
     },
     "execution_count": 45,
     "metadata": {},
     "output_type": "execute_result"
    }
   ],
   "source": [
    "es_client.indices.create(index=index_name, body=index_settings)"
   ]
  },
  {
   "cell_type": "code",
   "execution_count": 46,
   "id": "db06af9d-d036-4455-a8b2-c880bdf9b2ba",
   "metadata": {},
   "outputs": [
    {
     "data": {
      "application/vnd.jupyter.widget-view+json": {
       "model_id": "f11cf94541e14f1dbc69e2a334a559f6",
       "version_major": 2,
       "version_minor": 0
      },
      "text/plain": [
       "  0%|          | 0/948 [00:00<?, ?it/s]"
      ]
     },
     "metadata": {},
     "output_type": "display_data"
    }
   ],
   "source": [
    "for doc in tqdm(documents):\n",
    "    #print(doc)\n",
    "    es_client.index(index=index_name, body=doc)"
   ]
  },
  {
   "cell_type": "markdown",
   "id": "989a8b63-49fa-4b61-b5d9-9bc4365d3f8d",
   "metadata": {},
   "source": [
    "Which function do you use for adding your data to elastic?\n",
    "\n",
    "* `insert`\n",
    "* **`index`**\n",
    "* `put`\n",
    "* `add`"
   ]
  },
  {
   "cell_type": "code",
   "execution_count": 28,
   "id": "eeca317e-4511-48d0-b507-854fa24f2138",
   "metadata": {},
   "outputs": [],
   "source": [
    "#!cat /opt/conda/envs/intro-env/lib/python3.10/site-packages/elasticsearch/client/utils.py"
   ]
  },
  {
   "cell_type": "markdown",
   "id": "1aaea601-f284-4f92-aa11-89d22a4bcf96",
   "metadata": {},
   "source": [
    "## Q3. Searching\n",
    "\n",
    "Now let's search in our index. \n",
    "\n",
    "We will execute a query \"How do I execute a command in a running docker container?\". \n",
    "\n",
    "Use only `question` and `text` fields and give `question` a boost of 4, and use `\"type\": \"best_fields\"`.\n",
    "\n"
   ]
  },
  {
   "cell_type": "code",
   "execution_count": 60,
   "id": "e6a6a8b8-f321-4332-adc5-33d10ba52e30",
   "metadata": {},
   "outputs": [],
   "source": [
    "query = 'How do I execute a command in a running docker container?'"
   ]
  },
  {
   "cell_type": "code",
   "execution_count": 61,
   "id": "247774c2-48ef-47f7-934a-0acaf54fd73b",
   "metadata": {},
   "outputs": [],
   "source": [
    "search_query = {\n",
    "    \"size\": 5,\n",
    "    \"query\": {\n",
    "        \"bool\": {\n",
    "            \"must\": {\n",
    "                \"multi_match\": {\n",
    "                    \"query\": query,\n",
    "                    \"fields\": [\"question^4\", \"text\"],\n",
    "                    \"type\": \"best_fields\"\n",
    "                }\n",
    "            },\n",
    "            \"filter\": {\n",
    "                \"term\": {\n",
    "                    \"course\": \"data-engineering-zoomcamp\"\n",
    "                }\n",
    "            }\n",
    "        }\n",
    "    }\n",
    "}"
   ]
  },
  {
   "cell_type": "code",
   "execution_count": 62,
   "id": "09745303-c55a-4694-b102-9209405e060b",
   "metadata": {},
   "outputs": [],
   "source": [
    "response = es_client.search(index=index_name, body=search_query)"
   ]
  },
  {
   "cell_type": "code",
   "execution_count": 63,
   "id": "1fbecf7c-501d-4bf9-9a24-ad01435e450d",
   "metadata": {},
   "outputs": [
    {
     "data": {
      "text/plain": [
       "{'took': 12,\n",
       " 'timed_out': False,\n",
       " '_shards': {'total': 1, 'successful': 1, 'skipped': 0, 'failed': 0},\n",
       " 'hits': {'total': {'value': 390, 'relation': 'eq'},\n",
       "  'max_score': 75.54128,\n",
       "  'hits': [{'_index': 'course-question',\n",
       "    '_id': 'oMqiO5AB5e7Yp_BPDL2A',\n",
       "    '_score': 75.54128,\n",
       "    '_source': {'text': 'In case running pgcli  locally causes issues or you do not want to install it locally you can use it running in a Docker container instead.\\nBelow the usage with values used in the videos of the course for:\\nnetwork name (docker network)\\npostgres related variables for pgcli\\nHostname\\nUsername\\nPort\\nDatabase name\\n$ docker run -it --rm --network pg-network ai2ys/dockerized-pgcli:4.0.1\\n175dd47cda07:/# pgcli -h pg-database -U root -p 5432 -d ny_taxi\\nPassword for root:\\nServer: PostgreSQL 16.1 (Debian 16.1-1.pgdg120+1)\\nVersion: 4.0.1\\nHome: http://pgcli.com\\nroot@pg-database:ny_taxi> \\\\dt\\n+--------+------------------+-------+-------+\\n| Schema | Name             | Type  | Owner |\\n|--------+------------------+-------+-------|\\n| public | yellow_taxi_data | table | root  |\\n+--------+------------------+-------+-------+\\nSELECT 1\\nTime: 0.009s\\nroot@pg-database:ny_taxi>',\n",
       "     'section': 'Module 1: Docker and Terraform',\n",
       "     'question': 'PGCLI - running in a Docker container',\n",
       "     'course': 'data-engineering-zoomcamp'}},\n",
       "   {'_index': 'course-question',\n",
       "    '_id': 'v8qiO5AB5e7Yp_BPJL5A',\n",
       "    '_score': 43.922554,\n",
       "    '_source': {'text': 'You can check the version of your local spark using spark-submit --version. In the build.sh file of the Python folder, make sure that SPARK_VERSION matches your local version. Similarly, make sure the pyspark you pip installed also matches this version.',\n",
       "     'section': 'Module 6: streaming with kafka',\n",
       "     'question': 'How do I check compatibility of local and container Spark versions?',\n",
       "     'course': 'data-engineering-zoomcamp'}},\n",
       "   {'_index': 'course-question',\n",
       "    '_id': 'O8qiO5AB5e7Yp_BPBL0D',\n",
       "    '_score': 38.684105,\n",
       "    '_source': {'text': \"There are 3 Zoom Camps in a year, as of 2024. However, they are for separate courses:\\nData-Engineering (Jan - Apr)\\nMLOps (May - Aug)\\nMachine Learning (Sep - Jan)\\nThere's only one Data-Engineering Zoomcamp “live” cohort per year, for the certification. Same as for the other Zoomcamps.\\nThey follow pretty much the same schedule for each cohort per zoomcamp. For Data-Engineering it is (generally) from Jan-Apr of the year. If you’re not interested in the Certificate, you can take any zoom camps at any time, at your own pace, out of sync with any “live” cohort.\",\n",
       "     'section': 'General course-related questions',\n",
       "     'question': 'Course - how many Zoomcamps in a year?',\n",
       "     'course': 'data-engineering-zoomcamp'}},\n",
       "   {'_index': 'course-question',\n",
       "    '_id': 'b8qiO5AB5e7Yp_BPCL17',\n",
       "    '_score': 38.33403,\n",
       "    '_source': {'text': \"It is recommended by the Docker do\\n[Windows 10 / 11 Home Edition] If you're running a Home Edition, you can still make it work with WSL2 (Windows Subsystem for Linux) by following the tutorial here\\nIf even after making sure your WSL2 (or Hyper-V) is set up accordingly, Docker remains stuck, you can try the option to Reset to Factory Defaults or do a fresh install.\",\n",
       "     'section': 'Module 1: Docker and Terraform',\n",
       "     'question': 'Should I run docker commands from the windows file system or a file system of a Linux distribution in WSL?',\n",
       "     'course': 'data-engineering-zoomcamp'}},\n",
       "   {'_index': 'course-question',\n",
       "    '_id': 'QcqiO5AB5e7Yp_BPBL2G',\n",
       "    '_score': 35.94081,\n",
       "    '_source': {'text': \"No, you can only get a certificate if you finish the course with a “live” cohort. We don't award certificates for the self-paced mode. The reason is you need to peer-review capstone(s) after submitting a project. You can only peer-review projects at the time the course is running.\",\n",
       "     'section': 'General course-related questions',\n",
       "     'question': 'Certificate - Can I follow the course in a self-paced mode and get a certificate?',\n",
       "     'course': 'data-engineering-zoomcamp'}}]}}"
      ]
     },
     "execution_count": 63,
     "metadata": {},
     "output_type": "execute_result"
    }
   ],
   "source": [
    "response"
   ]
  },
  {
   "cell_type": "code",
   "execution_count": 69,
   "id": "b914bf27-f0ad-4aea-b421-e223e6d33f59",
   "metadata": {},
   "outputs": [
    {
     "data": {
      "text/plain": [
       "75.54128"
      ]
     },
     "execution_count": 69,
     "metadata": {},
     "output_type": "execute_result"
    }
   ],
   "source": [
    "response['hits']['max_score']"
   ]
  },
  {
   "cell_type": "code",
   "execution_count": 70,
   "id": "0cbd4d6b-cf8a-4805-97da-a11b3a532a31",
   "metadata": {},
   "outputs": [
    {
     "data": {
      "text/plain": [
       "75.54128"
      ]
     },
     "execution_count": 70,
     "metadata": {},
     "output_type": "execute_result"
    }
   ],
   "source": [
    "response['hits']['hits'][0]['_score']"
   ]
  },
  {
   "cell_type": "markdown",
   "id": "a074489b-4e48-4398-8461-6201ebc85767",
   "metadata": {},
   "source": [
    "What's the score for the top ranking result?\n",
    "\n",
    "* 94.05\n",
    "* 84.05\n",
    "* **74.05**\n",
    "* 64.05\n",
    "\n",
    "Look at the `_score` field.\n",
    "\n"
   ]
  },
  {
   "cell_type": "markdown",
   "id": "2deb1385-0cae-4a86-b4f3-3dae0d3c6eeb",
   "metadata": {},
   "source": [
    "## Q4. Filtering\n",
    "\n",
    "Now let's only limit the questions to `machine-learning-zoomcamp`.\n",
    "\n",
    "Return 3 results. What's the 3rd question returned by the search engine?\n",
    "\n",
    "* How do I debug a docker container?\n",
    "* How do I copy files from a different folder into docker container’s working directory?\n",
    "* How do Lambda container images work?\n",
    "* How can I annotate a graph?"
   ]
  },
  {
   "cell_type": "code",
   "execution_count": null,
   "id": "334cbe7b-43b8-4876-9c15-53fd3574ce7c",
   "metadata": {},
   "outputs": [],
   "source": []
  },
  {
   "cell_type": "markdown",
   "id": "3e23f890-a819-42d5-b2c3-36f87c0f405d",
   "metadata": {},
   "source": [
    "\n",
    "## Q5. Building a prompt\n",
    "\n",
    "Now we're ready to build a prompt to send to an LLM. \n",
    "\n",
    "Take the records returned from Elasticsearch in Q4 and use this template to build the context. Separate context entries by two linebreaks (`\\n\\n`)\n",
    "```python\n",
    "context_template = \"\"\"\n",
    "Q: {question}\n",
    "A: {text}\n",
    "\"\"\".strip()\n",
    "```\n",
    "\n",
    "Now use the context you just created along with the \"How do I execute a command in a running docker container?\" question \n",
    "to construct a prompt using the template below:\n",
    "\n",
    "```\n",
    "prompt_template = \"\"\"\n",
    "You're a course teaching assistant. Answer the QUESTION based on the CONTEXT from the FAQ database.\n",
    "Use only the facts from the CONTEXT when answering the QUESTION.\n",
    "\n",
    "QUESTION: {question}\n",
    "\n",
    "CONTEXT:\n",
    "{context}\n",
    "\"\"\".strip()\n",
    "```\n",
    "\n",
    "What's the length of the resulting prompt? (use the `len` function)\n",
    "\n",
    "* 962\n",
    "* 1462\n",
    "* 1962\n",
    "* 2462"
   ]
  },
  {
   "cell_type": "code",
   "execution_count": null,
   "id": "9af4aab2-130c-477e-9dee-db6db7dd2c15",
   "metadata": {},
   "outputs": [],
   "source": []
  },
  {
   "cell_type": "markdown",
   "id": "50b893a0-e4a8-482f-a1b5-4e6505c6f482",
   "metadata": {},
   "source": [
    "## Q6. Tokens\n",
    "\n",
    "When we use the OpenAI Platform, we're charged by the number of \n",
    "tokens we send in our prompt and receive in the response.\n",
    "\n",
    "The OpenAI python package uses `tiktoken` for tokenization:\n",
    "\n",
    "```bash\n",
    "pip install tiktoken\n",
    "```\n",
    "\n",
    "Let's calculate the number of tokens in our query: \n",
    "\n",
    "```python\n",
    "encoding = tiktoken.encoding_for_model(\"gpt-4o\")\n",
    "```\n",
    "\n",
    "Use the `encode` function. How many tokens does our prompt have?\n",
    "\n",
    "* 122\n",
    "* 222\n",
    "* 322\n",
    "* 422\n",
    "\n",
    "Note: to decode back a token into a word, you can use the `decode_single_token_bytes` function:\n",
    "\n",
    "```python\n",
    "encoding.decode_single_token_bytes(63842)\n",
    "```\n"
   ]
  },
  {
   "cell_type": "code",
   "execution_count": null,
   "id": "27589b27-beb6-4244-a14a-0832dd0ade8e",
   "metadata": {},
   "outputs": [],
   "source": []
  }
 ],
 "metadata": {
  "kernelspec": {
   "display_name": "Python (intro-env)",
   "language": "python",
   "name": "intro-env"
  },
  "language_info": {
   "codemirror_mode": {
    "name": "ipython",
    "version": 3
   },
   "file_extension": ".py",
   "mimetype": "text/x-python",
   "name": "python",
   "nbconvert_exporter": "python",
   "pygments_lexer": "ipython3",
   "version": "3.10.13"
  }
 },
 "nbformat": 4,
 "nbformat_minor": 5
}
