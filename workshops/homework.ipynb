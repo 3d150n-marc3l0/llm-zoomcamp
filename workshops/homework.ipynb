{
 "cells": [
  {
   "cell_type": "markdown",
   "id": "bf2ed2d0-bf3b-48be-8487-5f4c81e16441",
   "metadata": {},
   "source": [
    "# Open source data ingestion for RAGs with dlt\n",
    "\n",
    "Video: https://www.youtube.com/watch?v=qUNyfR_X2Mo\n",
    "\n",
    "In this hands-on workshop, we’ll learn how to build a data ingestion pipeline using dlt to load data from a REST API into LanceDB so you can have an always up to date RAG.\n",
    "\n",
    "​We’ll cover the following steps:\n",
    "\n",
    "* Extract data from REST APIs\n",
    "* Loading and vectorizing into LanceDB, which unlike other vector DBs stores the data _and_ the embeddings\n",
    "* Incremental loading\n",
    "\n",
    "​By the end of this workshop, you’ll be able to write a portable, OSS data pipeline for your RAG that you can deploy anywhere, such as python notebooks, virtual machines, or orchestrators like Airflow, Dagster or Mage.\n",
    "\n",
    "\n",
    "# Resources\n",
    "\n",
    "* Slides: [dlt-LLM-Zoomcamp.pdf](https://github.com/user-attachments/files/16131729/dlt.LLM.Zoomcamp.pdf)\n",
    "* [Google Colab notebook](https://colab.research.google.com/drive/1nNOybHdWQiwUUuJFZu__xvJxL_ADU3xl?usp=sharing) - make a copy to follow along!\n",
    "\n",
    "--- "
   ]
  },
  {
   "cell_type": "markdown",
   "id": "253df020-d613-4e35-810d-56a04abfe074",
   "metadata": {},
   "source": [
    "# Homework\n",
    "\n",
    "In the workshop, we extracted contents from two pages in notion titled \"Workshop: Benefits and Perks\" and \"Workshop: Working hours, PTO, and Vacation\". \n",
    "\n",
    "Repeat the same process for a third page titled \"Homework: Employee handbook\" (hidden from public view, but accessible via API key):\n",
    "\n",
    "1. Modify the REST API source to extract only this page.\n",
    "2. Write the output into a separate table called \"homework\".\n",
    "3. Remember to update the table name in all cells where you connect to a lancedb table.\n",
    "\n",
    "To do this you can use the [workshop Colab](https://colab.research.google.com/drive/1nNOybHdWQiwUUuJFZu__xvJxL_ADU3xl?usp=sharing) as a basis.\n",
    "\n",
    "Now, answer the following questions:"
   ]
  },
  {
   "cell_type": "code",
   "execution_count": 6,
   "id": "32d9a99b-693c-4489-84f5-6a998240cc7a",
   "metadata": {},
   "outputs": [],
   "source": [
    "%%capture\n",
    "!pip install dlt[lancedb]==0.5.1a0\n",
    "!pip install sentence-transformers"
   ]
  },
  {
   "cell_type": "code",
   "execution_count": 7,
   "id": "23fe3251-f0b6-4dca-aefe-5e3433a45232",
   "metadata": {},
   "outputs": [
    {
     "name": "stdout",
     "output_type": "stream",
     "text": [
      ".lancedb/\n",
      ".lancedb/qanda____dlt_pipeline_state.lance/\n",
      ".lancedb/qanda____dlt_pipeline_state.lance/_latest.manifest\n",
      ".lancedb/qanda____dlt_pipeline_state.lance/data/\n",
      ".lancedb/qanda____dlt_pipeline_state.lance/data/f82c6be0-ecda-4adc-8177-6acd7fa5e1e8.lance\n",
      ".lancedb/qanda____dlt_pipeline_state.lance/_transactions/\n",
      ".lancedb/qanda____dlt_pipeline_state.lance/_transactions/0-838880c2-b9b4-41e1-8568-a4d610f48677.txn\n",
      ".lancedb/qanda____dlt_pipeline_state.lance/_transactions/1-b166de74-4d8a-43c4-b2eb-74702dd1b885.txn\n",
      ".lancedb/qanda____dlt_pipeline_state.lance/_versions/\n",
      ".lancedb/qanda____dlt_pipeline_state.lance/_versions/2.manifest\n",
      ".lancedb/qanda____dlt_pipeline_state.lance/_versions/1.manifest\n",
      ".lancedb/qanda_embedded____dlt_pipeline_state.lance/\n",
      ".lancedb/qanda_embedded____dlt_pipeline_state.lance/_latest.manifest\n",
      ".lancedb/qanda_embedded____dlt_pipeline_state.lance/data/\n",
      ".lancedb/qanda_embedded____dlt_pipeline_state.lance/data/f3f9b75c-430e-4116-9fe2-3085caf777fc.lance\n",
      ".lancedb/qanda_embedded____dlt_pipeline_state.lance/_transactions/\n",
      ".lancedb/qanda_embedded____dlt_pipeline_state.lance/_transactions/1-6fc33f20-686f-4ff9-9a4f-007636d1ae57.txn\n",
      ".lancedb/qanda_embedded____dlt_pipeline_state.lance/_transactions/0-0e861d35-5624-4789-839a-b6577e0177f8.txn\n",
      ".lancedb/qanda_embedded____dlt_pipeline_state.lance/_versions/\n",
      ".lancedb/qanda_embedded____dlt_pipeline_state.lance/_versions/2.manifest\n",
      ".lancedb/qanda_embedded____dlt_pipeline_state.lance/_versions/1.manifest\n",
      ".lancedb/qanda___documents.lance/\n",
      ".lancedb/qanda___documents.lance/_latest.manifest\n",
      ".lancedb/qanda___documents.lance/data/\n",
      ".lancedb/qanda___documents.lance/data/77645aa9-03c0-4d06-b1c6-e6025fd85f04.lance\n",
      ".lancedb/qanda___documents.lance/_transactions/\n",
      ".lancedb/qanda___documents.lance/_transactions/1-ac6088a8-e7a1-4d1d-aa58-beeee51e14de.txn\n",
      ".lancedb/qanda___documents.lance/_transactions/0-0f5d5622-0d11-4570-9e0b-b562a4e284fb.txn\n",
      ".lancedb/qanda___documents.lance/_versions/\n",
      ".lancedb/qanda___documents.lance/_versions/2.manifest\n",
      ".lancedb/qanda___documents.lance/_versions/1.manifest\n",
      ".lancedb/qanda_embedded___documents.lance/\n",
      ".lancedb/qanda_embedded___documents.lance/_latest.manifest\n",
      ".lancedb/qanda_embedded___documents.lance/data/\n",
      ".lancedb/qanda_embedded___documents.lance/data/e8a6c867-d38f-47e1-ab50-d33e32921576.lance\n",
      ".lancedb/qanda_embedded___documents.lance/_transactions/\n",
      ".lancedb/qanda_embedded___documents.lance/_transactions/0-9a631ab2-2c59-4770-a870-4dd0708e821f.txn\n",
      ".lancedb/qanda_embedded___documents.lance/_transactions/1-f29e8f6a-92be-4841-8671-09530e8e8861.txn\n",
      ".lancedb/qanda_embedded___documents.lance/_versions/\n",
      ".lancedb/qanda_embedded___documents.lance/_versions/2.manifest\n",
      ".lancedb/qanda_embedded___documents.lance/_versions/1.manifest\n",
      ".lancedb/notion_homework____dlt_pipeline_state.lance/\n",
      ".lancedb/notion_homework____dlt_pipeline_state.lance/_latest.manifest\n",
      ".lancedb/notion_homework____dlt_pipeline_state.lance/data/\n",
      ".lancedb/notion_homework____dlt_pipeline_state.lance/data/ad154dc1-1940-4de4-88c9-af6d3e5018e0.lance\n",
      ".lancedb/notion_homework____dlt_pipeline_state.lance/_transactions/\n",
      ".lancedb/notion_homework____dlt_pipeline_state.lance/_transactions/1-ad27192b-668e-4ce1-b19f-054354cf3cb5.txn\n",
      ".lancedb/notion_homework____dlt_pipeline_state.lance/_transactions/0-9c0fafe4-bad5-4b7f-a3ca-649800e9f2cd.txn\n",
      ".lancedb/notion_homework____dlt_pipeline_state.lance/_versions/\n",
      ".lancedb/notion_homework____dlt_pipeline_state.lance/_versions/2.manifest\n",
      ".lancedb/notion_homework____dlt_pipeline_state.lance/_versions/1.manifest\n",
      ".lancedb/qanda_embedded____dlt_loads.lance/\n",
      ".lancedb/qanda_embedded____dlt_loads.lance/_latest.manifest\n",
      ".lancedb/qanda_embedded____dlt_loads.lance/data/\n",
      ".lancedb/qanda_embedded____dlt_loads.lance/data/ca408fe8-5529-44c1-826f-3241878927af.lance\n",
      ".lancedb/qanda_embedded____dlt_loads.lance/_transactions/\n",
      ".lancedb/qanda_embedded____dlt_loads.lance/_transactions/0-4579cd0f-35f1-4820-87ee-e694ef24e655.txn\n",
      ".lancedb/qanda_embedded____dlt_loads.lance/_transactions/1-aa7a31a3-579b-4a7d-9a18-260cb71c4a95.txn\n",
      ".lancedb/qanda_embedded____dlt_loads.lance/_versions/\n",
      ".lancedb/qanda_embedded____dlt_loads.lance/_versions/2.manifest\n",
      ".lancedb/qanda_embedded____dlt_loads.lance/_versions/1.manifest\n",
      ".lancedb/notion_homework____dlt_loads.lance/\n",
      ".lancedb/notion_homework____dlt_loads.lance/_latest.manifest\n",
      ".lancedb/notion_homework____dlt_loads.lance/data/\n",
      ".lancedb/notion_homework____dlt_loads.lance/data/cc303098-f62d-4a16-ad7c-e2ada732aba7.lance\n",
      ".lancedb/notion_homework____dlt_loads.lance/_transactions/\n",
      ".lancedb/notion_homework____dlt_loads.lance/_transactions/1-90bbc90e-46e4-4ee8-98a4-7dd79484d6a5.txn\n",
      ".lancedb/notion_homework____dlt_loads.lance/_transactions/0-f556d7bb-d1d0-4393-8f92-de14688944d7.txn\n",
      ".lancedb/notion_homework____dlt_loads.lance/_versions/\n",
      ".lancedb/notion_homework____dlt_loads.lance/_versions/2.manifest\n",
      ".lancedb/notion_homework____dlt_loads.lance/_versions/1.manifest\n",
      ".lancedb/qanda____dlt_version.lance/\n",
      ".lancedb/qanda____dlt_version.lance/_latest.manifest\n",
      ".lancedb/qanda____dlt_version.lance/data/\n",
      ".lancedb/qanda____dlt_version.lance/data/ab622fcf-2ad7-404c-b0e3-b2a5adf75e2d.lance\n",
      ".lancedb/qanda____dlt_version.lance/_transactions/\n",
      ".lancedb/qanda____dlt_version.lance/_transactions/1-0968b7bd-6a2d-41c0-80cd-d16a767de312.txn\n",
      ".lancedb/qanda____dlt_version.lance/_transactions/0-6790897b-179e-4fc6-a403-5d6c743ab8d5.txn\n",
      ".lancedb/qanda____dlt_version.lance/_versions/\n",
      ".lancedb/qanda____dlt_version.lance/_versions/2.manifest\n",
      ".lancedb/qanda____dlt_version.lance/_versions/1.manifest\n",
      ".lancedb/qanda_embedded____dlt_version.lance/\n",
      ".lancedb/qanda_embedded____dlt_version.lance/_latest.manifest\n",
      ".lancedb/qanda_embedded____dlt_version.lance/data/\n",
      ".lancedb/qanda_embedded____dlt_version.lance/data/749e09cf-9877-464c-88d7-0606cccc13f9.lance\n",
      ".lancedb/qanda_embedded____dlt_version.lance/_transactions/\n",
      ".lancedb/qanda_embedded____dlt_version.lance/_transactions/1-76765e94-ead0-4805-ad2e-18ef88d6c376.txn\n",
      ".lancedb/qanda_embedded____dlt_version.lance/_transactions/0-ed09f0aa-1754-4881-aae0-2479f9212890.txn\n",
      ".lancedb/qanda_embedded____dlt_version.lance/_versions/\n",
      ".lancedb/qanda_embedded____dlt_version.lance/_versions/2.manifest\n",
      ".lancedb/qanda_embedded____dlt_version.lance/_versions/1.manifest\n",
      ".lancedb/qanda_embedded___dltSentinelTable.lance/\n",
      ".lancedb/qanda_embedded___dltSentinelTable.lance/_latest.manifest\n",
      ".lancedb/qanda_embedded___dltSentinelTable.lance/_transactions/\n",
      ".lancedb/qanda_embedded___dltSentinelTable.lance/_transactions/0-475af1b7-62fe-41e6-961d-2eb019e8d2f2.txn\n",
      ".lancedb/qanda_embedded___dltSentinelTable.lance/_versions/\n",
      ".lancedb/qanda_embedded___dltSentinelTable.lance/_versions/1.manifest\n",
      ".lancedb/qanda___dltSentinelTable.lance/\n",
      ".lancedb/qanda___dltSentinelTable.lance/_latest.manifest\n",
      ".lancedb/qanda___dltSentinelTable.lance/_transactions/\n",
      ".lancedb/qanda___dltSentinelTable.lance/_transactions/0-d9a7d4a7-9a4b-40e9-a77f-462e9ffd3871.txn\n",
      ".lancedb/qanda___dltSentinelTable.lance/_versions/\n",
      ".lancedb/qanda___dltSentinelTable.lance/_versions/1.manifest\n",
      ".lancedb/notion_homework____dlt_version.lance/\n",
      ".lancedb/notion_homework____dlt_version.lance/_latest.manifest\n",
      ".lancedb/notion_homework____dlt_version.lance/data/\n",
      ".lancedb/notion_homework____dlt_version.lance/data/9ffc5fde-4f55-4fee-b6f9-7ca195637757.lance\n",
      ".lancedb/notion_homework____dlt_version.lance/_transactions/\n",
      ".lancedb/notion_homework____dlt_version.lance/_transactions/0-7d40e440-7593-49e3-a59b-37d8eed794b6.txn\n",
      ".lancedb/notion_homework____dlt_version.lance/_transactions/1-5b14ba18-49e0-4a47-9a31-744ee85d2a90.txn\n",
      ".lancedb/notion_homework____dlt_version.lance/_versions/\n",
      ".lancedb/notion_homework____dlt_version.lance/_versions/2.manifest\n",
      ".lancedb/notion_homework____dlt_version.lance/_versions/1.manifest\n",
      ".lancedb/notion_homework___homework.lance/\n",
      ".lancedb/notion_homework___homework.lance/_latest.manifest\n",
      ".lancedb/notion_homework___homework.lance/data/\n",
      ".lancedb/notion_homework___homework.lance/data/cf14f86e-3065-4862-a3f5-67ce1e221d43.lance\n",
      ".lancedb/notion_homework___homework.lance/_transactions/\n",
      ".lancedb/notion_homework___homework.lance/_transactions/1-602d9f73-f3b1-4027-9572-817268ce22ea.txn\n",
      ".lancedb/notion_homework___homework.lance/_transactions/0-d5b9e09c-a5d7-4434-90d2-54a550cef553.txn\n",
      ".lancedb/notion_homework___homework.lance/_versions/\n",
      ".lancedb/notion_homework___homework.lance/_versions/2.manifest\n",
      ".lancedb/notion_homework___homework.lance/_versions/1.manifest\n",
      ".lancedb/qanda____dlt_loads.lance/\n",
      ".lancedb/qanda____dlt_loads.lance/_latest.manifest\n",
      ".lancedb/qanda____dlt_loads.lance/data/\n",
      ".lancedb/qanda____dlt_loads.lance/data/09951a08-28c2-4bac-97e2-85871d848c70.lance\n",
      ".lancedb/qanda____dlt_loads.lance/_transactions/\n",
      ".lancedb/qanda____dlt_loads.lance/_transactions/1-c2747a35-b964-405e-aeea-1303badd35e0.txn\n",
      ".lancedb/qanda____dlt_loads.lance/_transactions/0-0b09b380-bea7-40dd-8478-f10a193be16c.txn\n",
      ".lancedb/qanda____dlt_loads.lance/_versions/\n",
      ".lancedb/qanda____dlt_loads.lance/_versions/2.manifest\n",
      ".lancedb/qanda____dlt_loads.lance/_versions/1.manifest\n",
      ".lancedb/notion_homework___dltSentinelTable.lance/\n",
      ".lancedb/notion_homework___dltSentinelTable.lance/_latest.manifest\n",
      ".lancedb/notion_homework___dltSentinelTable.lance/_transactions/\n",
      ".lancedb/notion_homework___dltSentinelTable.lance/_transactions/0-ae1cd4bd-8b25-41ba-bfa5-39ebcb677ce4.txn\n",
      ".lancedb/notion_homework___dltSentinelTable.lance/_versions/\n",
      ".lancedb/notion_homework___dltSentinelTable.lance/_versions/1.manifest\n"
     ]
    }
   ],
   "source": [
    "!tar -xzvf lancedb.tar.gz"
   ]
  },
  {
   "cell_type": "code",
   "execution_count": 8,
   "id": "ec7df320-d7af-4bda-9467-752e3e2c4703",
   "metadata": {},
   "outputs": [
    {
     "data": {
      "text/plain": [
       "['notion_homework____dlt_loads',\n",
       " 'notion_homework____dlt_pipeline_state',\n",
       " 'notion_homework____dlt_version',\n",
       " 'notion_homework___dltSentinelTable',\n",
       " 'notion_homework___homework',\n",
       " 'qanda____dlt_loads',\n",
       " 'qanda____dlt_pipeline_state',\n",
       " 'qanda____dlt_version',\n",
       " 'qanda___dltSentinelTable',\n",
       " 'qanda___documents',\n",
       " 'qanda_embedded____dlt_loads',\n",
       " 'qanda_embedded____dlt_pipeline_state',\n",
       " 'qanda_embedded____dlt_version',\n",
       " 'qanda_embedded___dltSentinelTable',\n",
       " 'qanda_embedded___documents']"
      ]
     },
     "execution_count": 8,
     "metadata": {},
     "output_type": "execute_result"
    }
   ],
   "source": [
    "import lancedb\n",
    "\n",
    "db = lancedb.connect(\".lancedb\")\n",
    "\n",
    "db.table_names()"
   ]
  },
  {
   "cell_type": "markdown",
   "id": "9c2d1640-cdcf-4199-acaa-e06c9bd93146",
   "metadata": {},
   "source": [
    "## Q1. Rows in LanceDB\n",
    "\n"
   ]
  },
  {
   "cell_type": "code",
   "execution_count": 9,
   "id": "0944fdc6-a452-41ac-b957-01148cc99b1f",
   "metadata": {},
   "outputs": [
    {
     "data": {
      "text/plain": [
       "(17, 9)"
      ]
     },
     "execution_count": 9,
     "metadata": {},
     "output_type": "execute_result"
    }
   ],
   "source": [
    "db = lancedb.connect(\".lancedb\")\n",
    "\n",
    "dbtable = db.open_table(\"notion_homework___homework\")\n",
    "\n",
    "dbtable.to_pandas().shape"
   ]
  },
  {
   "cell_type": "markdown",
   "id": "8bcb6a4e-44a3-4f82-98cd-5a96ac56ef49",
   "metadata": {},
   "source": [
    "How many rows does the lancedb table \"notion_pages__homework\" have?\n",
    "\n",
    "* 14\n",
    "* 15\n",
    "* 16\n",
    "* **17**\n"
   ]
  },
  {
   "cell_type": "markdown",
   "id": "d39531d8-b211-4d8a-81c1-946eb1f9f6e5",
   "metadata": {},
   "source": [
    "## Q2. Running the Pipeline: Last edited time\n",
    "\n",
    "In the demo, we created an incremental dlt resource `rest_api_notion_incremental` that keeps track of `last_edited_time`. What value does it store after you've run your pipeline once? (Hint: you will be able to get this value by performing some aggregation function on the column `last_edited_time` of the table)\n",
    "\n",
    "* `Timestamp('2024-07-05 22:34:00+0000', tz='UTC') (OR \"2024-07-05T22:34:00.000Z\")`\n",
    "* **`Timestamp('2024-07-05 23:33:00+0000', tz='UTC') (OR \"2024-07-05T23:33:00.000Z\")`**\n",
    "* `Timestamp('2024-07-05 23:52:00+0000', tz='UTC') (OR \"2024-07-05T23:52:00.000Z\")`\n",
    "* `Timestamp('2024-07-05 22:56:00+0000', tz='UTC') (OR \"2024-07-05T22:56:00.000Z\")`"
   ]
  },
  {
   "attachments": {
    "ea87c206-51c5-4dcd-9777-cc878eec2654.png": {
     "image/png": "[encoded data removed]"
    }
   },
   "cell_type": "markdown",
   "id": "90642c19-65e8-4bc8-984e-eb793bf359ba",
   "metadata": {},
   "source": [
    "![image.png](attachment:ea87c206-51c5-4dcd-9777-cc878eec2654.png)"
   ]
  },
  {
   "cell_type": "markdown",
   "id": "b048da35-4145-43b3-867a-62bdfb6fd3ec",
   "metadata": {},
   "source": [
    "## Q3. Ask the Assistant \n",
    "\n",
    "Find out with the help of the AI assistant: how many PTO days are the employees entitled to in a year?  \n",
    "\n",
    "* 20\n",
    "* 25\n",
    "* 30\n",
    "* 35\n"
   ]
  },
  {
   "cell_type": "code",
   "execution_count": 13,
   "id": "024bc79b-1ea7-4b3b-985e-44a1456bf24f",
   "metadata": {},
   "outputs": [
    {
     "name": "stdout",
     "output_type": "stream",
     "text": [
      "Collecting ollama\n",
      "  Downloading ollama-0.3.1-py3-none-any.whl.metadata (3.8 kB)\n",
      "Requirement already satisfied: httpx<0.28.0,>=0.27.0 in /home/codespace/.local/lib/python3.10/site-packages (from ollama) (0.27.0)\n",
      "Requirement already satisfied: anyio in /home/codespace/.local/lib/python3.10/site-packages (from httpx<0.28.0,>=0.27.0->ollama) (4.4.0)\n",
      "Requirement already satisfied: certifi in /home/codespace/.local/lib/python3.10/site-packages (from httpx<0.28.0,>=0.27.0->ollama) (2024.7.4)\n",
      "Requirement already satisfied: httpcore==1.* in /home/codespace/.local/lib/python3.10/site-packages (from httpx<0.28.0,>=0.27.0->ollama) (1.0.5)\n",
      "Requirement already satisfied: idna in /home/codespace/.local/lib/python3.10/site-packages (from httpx<0.28.0,>=0.27.0->ollama) (3.7)\n",
      "Requirement already satisfied: sniffio in /home/codespace/.local/lib/python3.10/site-packages (from httpx<0.28.0,>=0.27.0->ollama) (1.3.1)\n",
      "Requirement already satisfied: h11<0.15,>=0.13 in /home/codespace/.local/lib/python3.10/site-packages (from httpcore==1.*->httpx<0.28.0,>=0.27.0->ollama) (0.14.0)\n",
      "Requirement already satisfied: exceptiongroup>=1.0.2 in /home/codespace/.local/lib/python3.10/site-packages (from anyio->httpx<0.28.0,>=0.27.0->ollama) (1.2.1)\n",
      "Requirement already satisfied: typing-extensions>=4.1 in /home/codespace/.local/lib/python3.10/site-packages (from anyio->httpx<0.28.0,>=0.27.0->ollama) (4.12.2)\n",
      "Downloading ollama-0.3.1-py3-none-any.whl (10 kB)\n",
      "Installing collected packages: ollama\n",
      "Successfully installed ollama-0.3.1\n",
      "\n",
      "\u001b[1m[\u001b[0m\u001b[34;49mnotice\u001b[0m\u001b[1;39;49m]\u001b[0m\u001b[39;49m A new release of pip is available: \u001b[0m\u001b[31;49m24.1.2\u001b[0m\u001b[39;49m -> \u001b[0m\u001b[32;49m24.2\u001b[0m\n",
      "\u001b[1m[\u001b[0m\u001b[34;49mnotice\u001b[0m\u001b[1;39;49m]\u001b[0m\u001b[39;49m To update, run: \u001b[0m\u001b[32;49mpython3 -m pip install --upgrade pip\u001b[0m\n"
     ]
    }
   ],
   "source": [
    "!pip install ollama"
   ]
  },
  {
   "cell_type": "code",
   "execution_count": 14,
   "id": "f7e82a27-1d05-4839-870b-bb88ffcb1c69",
   "metadata": {},
   "outputs": [],
   "source": [
    "import ollama"
   ]
  },
  {
   "cell_type": "code",
   "execution_count": 19,
   "id": "e3929dcc-fdfa-4a40-a427-09299ee0d6e9",
   "metadata": {},
   "outputs": [],
   "source": [
    "def retrieve_context_from_lancedb(dbtable, question, top_k=2):\n",
    "\n",
    "    query_results = dbtable.search(query=question).to_list()\n",
    "    context = \"\\n\".join([result[\"content\"] for result in query_results[:top_k]])\n",
    "\n",
    "    return context"
   ]
  },
  {
   "cell_type": "code",
   "execution_count": 20,
   "id": "d5086740-8c3b-4712-8fbe-ebe8e354290c",
   "metadata": {},
   "outputs": [],
   "source": [
    "def main():\n",
    "  # Connect to the lancedb table\n",
    "  db = lancedb.connect(\".lancedb\")\n",
    "  dbtable = db.open_table(\"notion_homework___homework\")\n",
    "\n",
    "  # A system prompt telling ollama to accept input in the form of \"Question: ... ; Context: ...\"\n",
    "  messages = [\n",
    "      {\"role\": \"system\", \"content\": \"You are a helpful assistant that helps users understand policies inside a company's employee handbook. The user will first ask you a question and then provide you relevant paragraphs from the handbook as context. Please answer the question based on the provided context. For any details missing in the paragraph, encourage the employee to contact the HR for that information. Please keep the responses conversational.\"}\n",
    "  ]\n",
    "\n",
    "  while True:\n",
    "    # Accept user question\n",
    "    question = input(\"You: \")\n",
    "\n",
    "    # Retrieve the relevant paragraphs on the question\n",
    "    context = retrieve_context_from_lancedb(dbtable,question,top_k=2)\n",
    "\n",
    "    # Create a user prompt using the question and retrieved context\n",
    "    messages.append(\n",
    "        {\"role\": \"user\", \"content\": f\"Question: '{question}'; Context:'{context}'\"}\n",
    "    )\n",
    "\n",
    "    # Get the response from the LLM\n",
    "    response = ollama.chat(\n",
    "        model=\"llama2-uncensored\",\n",
    "        messages=messages\n",
    "    )\n",
    "    response_content = response['message']['content']\n",
    "    print(f\"Assistant: {response_content}\")\n",
    "\n",
    "    # Add the response into the context window\n",
    "    messages.append(\n",
    "        {\"role\": \"assistant\", \"content\":response_content}\n",
    "    )"
   ]
  },
  {
   "cell_type": "code",
   "execution_count": 22,
   "id": "8a349601-1678-45aa-b4a0-cafadb6a83a3",
   "metadata": {},
   "outputs": [],
   "source": [
    "#main()"
   ]
  },
  {
   "attachments": {
    "d545b8b2-985d-4471-81fd-081697dd69cb.png": {
     "image/png": "[encoded data removed]"
    }
   },
   "cell_type": "markdown",
   "id": "08331751-fe01-4c0c-af32-b370420edd30",
   "metadata": {},
   "source": [
    "![image.png](attachment:d545b8b2-985d-4471-81fd-081697dd69cb.png)"
   ]
  },
  {
   "cell_type": "markdown",
   "id": "d93e30c3-dd6f-48c1-a5c5-177fa4953560",
   "metadata": {},
   "source": [
    "**You**: how many PTO days are the employees entitled to in a year?\n",
    "\n",
    "**Assistant**: Based on the provided context, the user is entitled to 30 days of PTO (Paid Time Off) per year. Additionally, they receive 2.5 days of PTO per month and earn one additional day each year up to a cap of 25 days overall. If the employee wants to use their PTO, they must submit a request through the HRIS system and if approved by their manager or HR, can take leave without needing to specify a reason. However, if the user leaves the company before using all of their accrued PTO, they may receive compensation with their final paycheck according to local law. If there is no provision in local law, we encourage the employee to use their time off throughout the year. Finally, holidays are considered \"off-days\" for most employees and if an exempt employee works on a holiday, they will receive additional PTO days that must be taken within 12 months after that holiday."
   ]
  },
  {
   "cell_type": "markdown",
   "id": "ec6591c3-6a7b-4ef2-bf94-c4ece1f5f80b",
   "metadata": {},
   "source": [
    "\n",
    "* 20\n",
    "* 25\n",
    "* **30**\n",
    "* 35\n"
   ]
  }
 ],
 "metadata": {
  "kernelspec": {
   "display_name": "Python 3 (ipykernel)",
   "language": "python",
   "name": "python3"
  },
  "language_info": {
   "codemirror_mode": {
    "name": "ipython",
    "version": 3
   },
   "file_extension": ".py",
   "mimetype": "text/x-python",
   "name": "python",
   "nbconvert_exporter": "python",
   "pygments_lexer": "ipython3",
   "version": "3.10.13"
  }
 },
 "nbformat": 4,
 "nbformat_minor": 5
}
